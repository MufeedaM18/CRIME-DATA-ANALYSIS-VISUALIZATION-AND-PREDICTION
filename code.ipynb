import xlrd
import random
import pandas as pd
import seaborn as sns
import geopandas as gpd
import matplotlib.pyplot as plt
sns.set_style('whitegrid')
df = pd.read_csv('D:\MACE PROJECT\datac.csv')
df.head(10)
df['total']=df.iloc[:,-12:].sum(axis=1)
df.head()
df.drop(df.columns[[2,3,4,5,6,7,8,9,10,11,12,13]], axis = 1, inplace = True)
df.head()
df.info()
d=df[:-38] #to drop total crime rows
import numpy as np
%matplotlib inline
plt.xticks(rotation='vertical')  #for labeling the values vertically
plt.bar(x="CRIME HEAD", height="total", width=0.8, bottom=None, align='center', data=d)
d.columns = ['State/UT', 'crime_list','count']
d.head(10)
#Analyzing a specific crime-kidnapping
kidnap = d[d.crime_list.str.contains('KIDNAPPING and ABDUCTION OF CHILDREN')]
kidnap.shape
kidnap
k=kidnap.drop(kidnap.index[[-1,-2,-10]])
k.plot(kind='bar',x='State/UT',y='count',color='blue')
#Analyzing a specific crime-rape
rape = d[d.crime_list.str.contains('RAPE OF CHILDREN')]
rape.head()
rape.shape
rape
r=rape.drop(rape.index[[-1,-2,-10]])
r.plot(kind='bar',x='State/UT',y='count',color='blue')
x=d['count']
labels=d['crime_list']
plt.figure(figsize=(12,6))
plt.title("pie_chart",fontsize=10)
plt.pie(x,labels=labels)
from IPython.core.display import display, HTML
display(HTML("""<a href="https://www.google.com/maps/d/drive?state=%7B%22ids%22%3A%5B%221hirbp3VAnEbTOXCK3k02T4Mz_RBQc1ZE%22%5D%2C%22action%22%3A%22open%22%2C%22userId%22%3A%22114201765530745468883%22%7D&usp=sharing">googlemap</a>"""))
file_name = 'D:\MACE PROJECT\Yearwise.xlsx'
wb = xlrd.open_workbook(file_name)
sheet = wb.sheet_by_index(0)
# Some pre-processing to prepare the DataFrame outof the excel file

prefix = 'Cases Reported during the Year (CR) Under Crime against Women in '
suffix = 'During 2001-2015'
state_name = None
key = None
info_list = []
info = dict()

for i in range(sheet.nrows):
    numbers = list()
    for j in range(17):
        value = sheet.cell_value(i, j)
        if type(value) is str and not value.split():
            continue
        if value == 'SL':
            break
        if j == 0 and type(value) is str and 'Cases Reported during the Year' in value:
            state_name = value.replace(prefix, '').replace(suffix, '')
            info['state_name'] = state_name
            break
        if j == 1 and type(value) is str and value.split():
            key = value
            info[key] = None
        if type(value) is float:
            numbers.append(value)
    if numbers:
        info[key] = numbers[1:]
        n_keys = len(list(info.keys()))
        if n_keys == 16:
            info_list.append(info)
            info = dict()

keys = list(info_list[0].keys())
columns = keys.copy()
columns.insert(1,'Year')

final_list = list()

for il in info_list:
    year = 2001
    for i in range(15):
        temp_list = list()
        for k in keys[1:]:
            temp_list.append(il.get(k)[i])
        temp_list.insert(0, il.get('state_name').strip())
        temp_list.insert(1, year)
        year += 1
        final_list.append(temp_list)
# preview the prepared DataFrame

df = pd.DataFrame(final_list, columns=columns)
df.head(10)
# Keeping only the required columns

state_wise_total_crimes = df[['state_name', 'Total Crimes against Women', 'Year']]
data_for_map = state_wise_total_crimes[state_wise_total_crimes['Year']==2015]
data_for_map.head()
# reading the state wise shapefile of India in a GeoDataFrame and preview it

fp = "D:\MACE PROJECT\igismap\Indian_States.shp"
map_df = gpd.read_file(fp)
map_df.head(10)
# Correct spellings of states from out dataframe to match those of GeoDataframe
# I found these 4 names manually

data_for_map['state_name'].iloc[29]  = 'Andaman & Nicobar Island'
data_for_map['state_name'].iloc[1] = 'Arunanchal Pradesh'
data_for_map['state_name'].iloc[31] = 'Dadara & Nagar Havelli'
data_for_map['state_name'].iloc[33] = 'NCT of Delhi'
# Plot the default map

map_df.plot()
# Join both the DataFrames by state names

merged = map_df.set_index('st_nm').join(data_for_map.set_index('state_name'))
merged.head()
# NA check

merged.isna().sum()
# Summary to get the max and min value

merged.describe()
# create figure and axes for Matplotlib and set the title
fig, ax = plt.subplots(1, figsize=(10, 6))
ax.axis('off')
ax.set_title('State Wise Crime against women in India in 2015', fontdict={'fontsize': '25', 'fontweight' : '3'})

# plot the figure
merged.plot(column='Total Crimes against Women', cmap='YlOrRd', linewidth=0.8, ax=ax, edgecolor='0.8', legend=True)
import numpy
import matplotlib.pyplot as plt
import pandas
import math
from keras.models import Sequential
from keras.layers import Dense
from keras.layers import LSTM
from sklearn.preprocessing import MinMaxScaler
from sklearn.metrics import mean_squared_error
from sklearn.utils import shuffle
# fix random seed for reproducibility
numpy.random.seed(7)
# load the dataset
dataframe = pandas.read_csv('D:\MACE PROJECT\KERALA.csv', usecols=[1], engine='python')
dataset = dataframe.values
data_raw = dataset.astype('float32')
# normalize the dataset
scaler = MinMaxScaler(feature_range=(0, 1))
dataset = scaler.fit_transform(data_raw)
dataset[0:5]
# split into train and test sets
train_size = int(len(dataset) * 0.67)
test_size = len(dataset) - train_size
train, test = dataset[0:train_size,:], dataset[train_size:len(dataset),:]
print("Number of entries (training set, test set): " + str((len(train), len(test))))
# convert an array of values into a dataset matrix
def create_dataset(dataset, look_back=1):
    dataX, dataY = [], []
    for i in range(len(dataset)-look_back-1):
        a = dataset[i:(i+look_back), 0]
        dataX.append(a)
        dataY.append(dataset[i + look_back, 0])
    return numpy.array(dataX), numpy.array(dataY)
# reshape into X=t and Y=t+1
look_back = 1
trainX, trainY = create_dataset(train, look_back)
testX, testY = create_dataset(test, look_back)
print("Original training data shape:")
print(trainX.shape)
# reshape input to be [samples, time steps, features]
trainX = numpy.reshape(trainX, (trainX.shape[0], 1, trainX.shape[1]))
testX = numpy.reshape(testX, (testX.shape[0], 1, testX.shape[1]))
print("New training data shape:")
print(trainX.shape)
# create and fit the LSTM network
def fit_model(trainX, trainY, look_back = 1):
    model = Sequential()
    model.add(LSTM(4, input_shape=(1, look_back)))
    model.add(Dense(1))
    model.compile(loss='mean_squared_error', optimizer='adam')
    model.fit(trainX, trainY, epochs=100, batch_size=1, verbose=2)
    return(model)

# Fit the first model.
model1 = fit_model(trainX, trainY, look_back)
def predict_and_score(model, X, Y):
    # Make predictions on the original scale of the data.
    pred = scaler.inverse_transform(model.predict(X))
    # Prepare Y data to also be on the original scale for interpretability.
    orig_data = scaler.inverse_transform([Y])
    # Calculate RMSE.
    score = math.sqrt(mean_squared_error(orig_data[0], pred[:, 0]))
    return(score, pred)
rmse_train, trainpredict = predict_and_score(model1, trainX, trainY)
rmse_test, testpredict = predict_and_score(model1, testX, testY)

print("Training data score: %.2f RMSE" % rmse_train)
print("Test data score: %.2f RMSE" % rmse_test)
# shift train predictions for plotting
trainPredictPlot = numpy.empty_like(dataset)
trainPredictPlot[:, :] = numpy.nan
trainPredictPlot[look_back:len(trainpredict)+look_back, :] = trainpredict
# shift test predictions for plotting
testPredictPlot = numpy.empty_like(dataset)
testPredictPlot[:, :] = numpy.nan
testPredictPlot[len(trainpredict)+(look_back*2)+1:len(dataset)-1, :] = testpredict
# plot baseline and predictions
plt.figure(figsize = (15, 5))
plt.plot(scaler.inverse_transform(dataset), label = "True value")
plt.xlabel("Years")
plt.ylabel("Total Crimes")
plt.title("Yearly Total Crime against children in Kerala 2001 - 2012")
plt.legend()
plt.show()
SAMPLES = 5000
PERIOD = 50
x = numpy.linspace(-PERIOD * numpy.pi, PERIOD * numpy.pi, SAMPLES)
series = pandas.DataFrame(numpy.sin(x))
# Normalize data on the (-1, 1) interval.
scaler = MinMaxScaler(feature_range = (-1, 1))
scaled = scaler.fit_transform(series.values)

# Convert to data frame.
series = pandas.DataFrame(scaled)

# Helper function to create a windowed data set.
# FIXME: Copying & overwriting is flawed!
def create_window(data, look_back = 1):    
    data_s = data.copy()
    for i in range(look_back):
        data = pandas.concat([data, data_s.shift(-(i + 1))], 
                            axis = 1)
        
    data.dropna(axis=0, inplace=True)
    return(data)

# FIXME: We'll use this only for demonstration purposes.
series_backup = series.copy()
t = create_window(series_backup, 1)
t.head()
look_back = 50
series = create_window(series, look_back)
print("Shape of input data:")
print(series.shape)
# Using 80% of data for training, 20% for validation.
# FIXME: Need to align with example 1.
TRAIN_SIZE = 0.80

nrow = round(TRAIN_SIZE * series.shape[0])

train = series.iloc[:nrow, :]
test = series.iloc[nrow:, :]

# Shuffle training data.
train = shuffle(train)

trainX = train.iloc[:, :-1]
testX = test.iloc[:, :-1]

trainY = train.iloc[:, -1]
testY = test.iloc[:, -1]

print("Training set shape for X (inputs):")
print(trainX.shape)
print("Training set shape for Y (output):")
print(trainY.shape)
trainX = numpy.reshape(trainX.values, (trainX.shape[0], trainX.shape[1], 1))
testX = numpy.reshape(testX.values, (testX.shape[0], testX.shape[1], 1))

print(trainX.shape)
print(testX.shape)
# Define the model.
model2 = Sequential()
model2.add(LSTM(input_shape = (look_back, 1), units = look_back, return_sequences = True))
model2.add(LSTM(256))
model2.add(Dense(1))
model2.compile(loss = "mse", optimizer = "adam")
model2.summary()
# Fit the model.
model2.fit(trainX, 
          trainY, 
          batch_size = 512,
          epochs = 3,
          validation_split = 0.1)
# Predict on test data.
pred_test = model2.predict(testX)

# Apply inverse transformation to get back true values.
test_y_actual = scaler.inverse_transform(testY.values.reshape(testY.shape[0], 1))

print("RMSE for predicted test set: %2f" % mean_squared_error(test_y_actual, pred_test))

plt.figure(figsize = (15, 5))
plt.plot(test_y_actual, label="True value")
plt.plot(pred_test, label="Predicted value")
plt.xlabel("x")
plt.ylabel("y")
plt.title("Comparison true vs. predicted test set")
plt.legend()
plt.show()

